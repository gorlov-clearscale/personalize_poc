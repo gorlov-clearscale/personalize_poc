{
 "cells": [
  {
   "cell_type": "markdown",
   "metadata": {},
   "source": [
    "# 2. Creating and Evaluating Solutions \n",
    "\n",
    "To recap from the first notebook:\n",
    "\n",
    "1. Selecting a dataset.\n",
    "1. Preparing interactions data for Personalize.\n",
    "1. Creating a Dataset Group.\n",
    "1. Creating and importing data into an Interactions dataset within the dataset group.\n",
    "\n",
    "\n",
    "## Creating Solutions\n",
    "\n",
    "This nobeook will cover creating the following solutions:\n",
    "\n",
    "1. HRNN\n",
    "1. SIMS\n",
    "1. Personalized-Ranking\n",
    "\n",
    "After that the metrics will be explained and another notebook will showcase how to interact with the Solutions once they are deployed into a Campaign.\n",
    "\n",
    "The first step is to reload the imports and the stored variables from the previous notebooks."
   ]
  },
  {
   "cell_type": "code",
   "execution_count": 1,
   "metadata": {},
   "outputs": [],
   "source": [
    "import boto3\n",
    "from time import sleep\n",
    "import subprocess\n",
    "import pandas as pd\n",
    "import json\n",
    "import time\n",
    "import pprint\n",
    "import numpy as np\n",
    "import matplotlib.pyplot as plt\n",
    "from matplotlib.dates import DateFormatter\n",
    "import matplotlib.dates as mdates\n",
    "from datetime import datetime\n",
    "import uuid"
   ]
  },
  {
   "cell_type": "code",
   "execution_count": 2,
   "metadata": {},
   "outputs": [],
   "source": [
    "%store -r"
   ]
  },
  {
   "cell_type": "code",
   "execution_count": 3,
   "metadata": {},
   "outputs": [],
   "source": [
    "# Configure the SDK to Personalize:\n",
    "personalize = boto3.client('personalize')\n",
    "personalize_runtime = boto3.client('personalize-runtime')"
   ]
  },
  {
   "cell_type": "markdown",
   "metadata": {},
   "source": [
    "In Amazon Personalize, a trained model is called a Solution, each Solution can have many specific versions that relate to a given volume of data when the model was trained.\n",
    "\n",
    "We are going to list all the recipes that are supported. A recipe is an algorithm that has not been trained on your data yet. After listing, you'll select one and use that to build your model."
   ]
  },
  {
   "cell_type": "code",
   "execution_count": 4,
   "metadata": {},
   "outputs": [
    {
     "name": "stdout",
     "output_type": "stream",
     "text": [
      "{'recipes': [{'name': 'aws-hrnn', 'recipeArn': 'arn:aws:personalize:::recipe/aws-hrnn', 'status': 'ACTIVE', 'creationDateTime': datetime.datetime(2019, 6, 10, 0, 0, tzinfo=tzlocal()), 'lastUpdatedDateTime': datetime.datetime(2019, 6, 20, 0, 39, 17, 65000, tzinfo=tzlocal())}, {'name': 'aws-hrnn-coldstart', 'recipeArn': 'arn:aws:personalize:::recipe/aws-hrnn-coldstart', 'status': 'ACTIVE', 'creationDateTime': datetime.datetime(2019, 6, 10, 0, 0, tzinfo=tzlocal()), 'lastUpdatedDateTime': datetime.datetime(2019, 6, 20, 0, 39, 17, 64000, tzinfo=tzlocal())}, {'name': 'aws-hrnn-metadata', 'recipeArn': 'arn:aws:personalize:::recipe/aws-hrnn-metadata', 'status': 'ACTIVE', 'creationDateTime': datetime.datetime(2019, 6, 10, 0, 0, tzinfo=tzlocal()), 'lastUpdatedDateTime': datetime.datetime(2019, 6, 20, 0, 39, 17, 64000, tzinfo=tzlocal())}, {'name': 'aws-personalized-ranking', 'recipeArn': 'arn:aws:personalize:::recipe/aws-personalized-ranking', 'status': 'ACTIVE', 'creationDateTime': datetime.datetime(2019, 6, 10, 0, 0, tzinfo=tzlocal()), 'lastUpdatedDateTime': datetime.datetime(2019, 6, 20, 0, 39, 17, 65000, tzinfo=tzlocal())}, {'name': 'aws-popularity-count', 'recipeArn': 'arn:aws:personalize:::recipe/aws-popularity-count', 'status': 'ACTIVE', 'creationDateTime': datetime.datetime(2019, 6, 10, 0, 0, tzinfo=tzlocal()), 'lastUpdatedDateTime': datetime.datetime(2019, 6, 20, 0, 39, 17, 65000, tzinfo=tzlocal())}, {'name': 'aws-sims', 'recipeArn': 'arn:aws:personalize:::recipe/aws-sims', 'status': 'ACTIVE', 'creationDateTime': datetime.datetime(2019, 6, 10, 0, 0, tzinfo=tzlocal()), 'lastUpdatedDateTime': datetime.datetime(2019, 6, 20, 0, 39, 17, 64000, tzinfo=tzlocal())}], 'ResponseMetadata': {'RequestId': 'd2ca8c68-0738-4178-b7d1-ed4840378e98', 'HTTPStatusCode': 200, 'HTTPHeaders': {'content-type': 'application/x-amz-json-1.1', 'date': 'Wed, 11 Mar 2020 06:40:47 GMT', 'x-amzn-requestid': 'd2ca8c68-0738-4178-b7d1-ed4840378e98', 'content-length': '1067', 'connection': 'keep-alive'}, 'RetryAttempts': 0}}\n"
     ]
    }
   ],
   "source": [
    "list_recipes_response = personalize.list_recipes()\n",
    "print(list_recipes_response)"
   ]
  },
  {
   "cell_type": "markdown",
   "metadata": {},
   "source": [
    "That is just a JSON representation of all of the algorithms that we have mentioned already. \n",
    "\n",
    "Next, we will select a particular algorithm then build a model with it."
   ]
  },
  {
   "cell_type": "markdown",
   "metadata": {},
   "source": [
    "----\n",
    "\n",
    "### HRNN\n",
    "\n",
    "HRNN is one of the more advanced recommendation models that you can use:\n",
    "- It allows for things like real-time updates of recommendations based on user behavior. \n",
    "- It also tends to outperform other approaches like collaborative filtering. \n",
    "- We will kick this job off first as it takes the longest to complete.\n",
    "\n",
    "#### Select Recipe"
   ]
  },
  {
   "cell_type": "code",
   "execution_count": 5,
   "metadata": {},
   "outputs": [],
   "source": [
    "HRNN_recipe_arn = \"arn:aws:personalize:::recipe/aws-hrnn\""
   ]
  },
  {
   "cell_type": "markdown",
   "metadata": {},
   "source": [
    "#### Create and Wait for Solution\n",
    "\n",
    "First, you will create the solution with the API, then you will create a version. \n",
    "\n",
    "Note the solution is just a label kind of identifier, you'll also need to create a version which is the actual trained model."
   ]
  },
  {
   "cell_type": "code",
   "execution_count": 6,
   "metadata": {},
   "outputs": [
    {
     "name": "stdout",
     "output_type": "stream",
     "text": [
      "{\n",
      "  \"solutionArn\": \"arn:aws:personalize:us-east-1:822894322603:solution/personalize-poc-hrnn011f5\",\n",
      "  \"ResponseMetadata\": {\n",
      "    \"RequestId\": \"19d6c1d8-605c-4301-9eb5-955cb8d266a4\",\n",
      "    \"HTTPStatusCode\": 200,\n",
      "    \"HTTPHeaders\": {\n",
      "      \"content-type\": \"application/x-amz-json-1.1\",\n",
      "      \"date\": \"Wed, 11 Mar 2020 06:40:48 GMT\",\n",
      "      \"x-amzn-requestid\": \"19d6c1d8-605c-4301-9eb5-955cb8d266a4\",\n",
      "      \"content-length\": \"95\",\n",
      "      \"connection\": \"keep-alive\"\n",
      "    },\n",
      "    \"RetryAttempts\": 0\n",
      "  }\n",
      "}\n"
     ]
    }
   ],
   "source": [
    "hrnn_create_solution_response = personalize.create_solution(\n",
    "    name = \"personalize-poc-hrnn\"+str(uuid.uuid4())[:5],\n",
    "    datasetGroupArn = dataset_group_arn,\n",
    "    recipeArn = HRNN_recipe_arn\n",
    ")\n",
    "\n",
    "hrnn_solution_arn = hrnn_create_solution_response['solutionArn']\n",
    "print(json.dumps(hrnn_create_solution_response, indent=2))"
   ]
  },
  {
   "cell_type": "markdown",
   "metadata": {},
   "source": [
    "#### Create the Solution Version\n",
    "\n",
    "This process will actually take a while to complete, upwards of 25 minutes on."
   ]
  },
  {
   "cell_type": "code",
   "execution_count": 7,
   "metadata": {},
   "outputs": [],
   "source": [
    "hrnn_create_solution_version_response = personalize.create_solution_version(\n",
    "    solutionArn = hrnn_solution_arn\n",
    ")"
   ]
  },
  {
   "cell_type": "code",
   "execution_count": 8,
   "metadata": {},
   "outputs": [
    {
     "name": "stdout",
     "output_type": "stream",
     "text": [
      "{\n",
      "  \"solutionVersionArn\": \"arn:aws:personalize:us-east-1:822894322603:solution/personalize-poc-hrnn011f5/4c7d5188\",\n",
      "  \"ResponseMetadata\": {\n",
      "    \"RequestId\": \"b8b557b0-b440-4c39-bfd5-ea69c6b591db\",\n",
      "    \"HTTPStatusCode\": 200,\n",
      "    \"HTTPHeaders\": {\n",
      "      \"content-type\": \"application/x-amz-json-1.1\",\n",
      "      \"date\": \"Wed, 11 Mar 2020 06:40:48 GMT\",\n",
      "      \"x-amzn-requestid\": \"b8b557b0-b440-4c39-bfd5-ea69c6b591db\",\n",
      "      \"content-length\": \"111\",\n",
      "      \"connection\": \"keep-alive\"\n",
      "    },\n",
      "    \"RetryAttempts\": 0\n",
      "  }\n",
      "}\n"
     ]
    }
   ],
   "source": [
    "hrnn_solution_version_arn = hrnn_create_solution_version_response['solutionVersionArn']\n",
    "print(json.dumps(hrnn_create_solution_version_response, indent=2))"
   ]
  },
  {
   "cell_type": "markdown",
   "metadata": {},
   "source": [
    "----\n",
    "\n",
    "### SIMS\n",
    "\n",
    "\n",
    "SIMS is one of the longest-running algorithms within Amazon for recommendation systems:\n",
    "- A core use case for it is when you have one item, and you want to recommend items that have been interacted with in similar ways over your entire user base(not personalized). \n",
    "- Sometimes this leads to recommending mostly popular items, so there is a hyperparameter that can be tweaked that will reduce the popular items in your results. \n",
    "\n",
    "Just as last time we start by selecting the recipe:\n",
    "\n",
    "#### Select Recipe"
   ]
  },
  {
   "cell_type": "code",
   "execution_count": 9,
   "metadata": {},
   "outputs": [],
   "source": [
    "## SIMS:\n",
    "SIMS_recipe_arn = \"arn:aws:personalize:::recipe/aws-sims\""
   ]
  },
  {
   "cell_type": "markdown",
   "metadata": {},
   "source": [
    "#### Create and Wait for Solution\n",
    "\n",
    "As with HRNN, start with the solution first.\n",
    "\n",
    "Note the solution is just a label kind of identifier, you'll also need to create a version which is the actual trained model."
   ]
  },
  {
   "cell_type": "code",
   "execution_count": 10,
   "metadata": {},
   "outputs": [
    {
     "name": "stdout",
     "output_type": "stream",
     "text": [
      "{\n",
      "  \"solutionArn\": \"arn:aws:personalize:us-east-1:822894322603:solution/personalize-poc-sims9dc02\",\n",
      "  \"ResponseMetadata\": {\n",
      "    \"RequestId\": \"15efc3e5-04d7-4fd3-9538-680e13792e76\",\n",
      "    \"HTTPStatusCode\": 200,\n",
      "    \"HTTPHeaders\": {\n",
      "      \"content-type\": \"application/x-amz-json-1.1\",\n",
      "      \"date\": \"Wed, 11 Mar 2020 06:40:48 GMT\",\n",
      "      \"x-amzn-requestid\": \"15efc3e5-04d7-4fd3-9538-680e13792e76\",\n",
      "      \"content-length\": \"95\",\n",
      "      \"connection\": \"keep-alive\"\n",
      "    },\n",
      "    \"RetryAttempts\": 0\n",
      "  }\n",
      "}\n"
     ]
    }
   ],
   "source": [
    "sims_create_solution_response = personalize.create_solution(\n",
    "    name = \"personalize-poc-sims\"+str(uuid.uuid4())[:5],\n",
    "    datasetGroupArn = dataset_group_arn,\n",
    "    recipeArn = SIMS_recipe_arn\n",
    ")\n",
    "\n",
    "sims_solution_arn = sims_create_solution_response['solutionArn']\n",
    "print(json.dumps(sims_create_solution_response, indent=2))"
   ]
  },
  {
   "cell_type": "markdown",
   "metadata": {},
   "source": [
    "#### Create the Solution Version\n",
    "\n",
    "This process will actually take a while to complete, upwards of 25 minutes on. "
   ]
  },
  {
   "cell_type": "code",
   "execution_count": 11,
   "metadata": {},
   "outputs": [],
   "source": [
    "sims_create_solution_version_response = personalize.create_solution_version(\n",
    "    solutionArn = sims_solution_arn\n",
    ")"
   ]
  },
  {
   "cell_type": "code",
   "execution_count": 12,
   "metadata": {},
   "outputs": [
    {
     "name": "stdout",
     "output_type": "stream",
     "text": [
      "{\n",
      "  \"solutionVersionArn\": \"arn:aws:personalize:us-east-1:822894322603:solution/personalize-poc-sims9dc02/54de3bda\",\n",
      "  \"ResponseMetadata\": {\n",
      "    \"RequestId\": \"b99489d8-6f5b-4d7f-a92b-b351701fca60\",\n",
      "    \"HTTPStatusCode\": 200,\n",
      "    \"HTTPHeaders\": {\n",
      "      \"content-type\": \"application/x-amz-json-1.1\",\n",
      "      \"date\": \"Wed, 11 Mar 2020 06:40:48 GMT\",\n",
      "      \"x-amzn-requestid\": \"b99489d8-6f5b-4d7f-a92b-b351701fca60\",\n",
      "      \"content-length\": \"111\",\n",
      "      \"connection\": \"keep-alive\"\n",
      "    },\n",
      "    \"RetryAttempts\": 0\n",
      "  }\n",
      "}\n"
     ]
    }
   ],
   "source": [
    "sims_solution_version_arn = sims_create_solution_version_response['solutionVersionArn']\n",
    "print(json.dumps(sims_create_solution_version_response, indent=2))"
   ]
  },
  {
   "cell_type": "markdown",
   "metadata": {},
   "source": [
    "### Personalized Ranking\n",
    "\n",
    "Personalized Ranking is an exciting application of HRNN:\n",
    "- Instead of just recommending what is most probable for your user in question, this algorithm takes in a user and a list of items as well.\n",
    "- The items are then rendered back in the order of most probability for the user. \n",
    "- For example, for filtering on the genre, or when you have a broad collection that you would like better ordered for a particular user.\n",
    "\n",
    "\n",
    "#### Select Recipe"
   ]
  },
  {
   "cell_type": "code",
   "execution_count": 13,
   "metadata": {},
   "outputs": [],
   "source": [
    "#### Personalized-rerank\n",
    "rerank_recipe_arn = \"arn:aws:personalize:::recipe/aws-personalized-ranking\""
   ]
  },
  {
   "cell_type": "markdown",
   "metadata": {},
   "source": [
    "#### Create and Wait for Solution\n",
    "First, you will create the solution with the API, then you will create a version. "
   ]
  },
  {
   "cell_type": "code",
   "execution_count": 14,
   "metadata": {},
   "outputs": [
    {
     "name": "stdout",
     "output_type": "stream",
     "text": [
      "{\n",
      "  \"solutionArn\": \"arn:aws:personalize:us-east-1:822894322603:solution/personalize-poc-rerank871dc\",\n",
      "  \"ResponseMetadata\": {\n",
      "    \"RequestId\": \"d4b57b1b-3f55-4653-8a24-33bfedf87bae\",\n",
      "    \"HTTPStatusCode\": 200,\n",
      "    \"HTTPHeaders\": {\n",
      "      \"content-type\": \"application/x-amz-json-1.1\",\n",
      "      \"date\": \"Wed, 11 Mar 2020 06:40:49 GMT\",\n",
      "      \"x-amzn-requestid\": \"d4b57b1b-3f55-4653-8a24-33bfedf87bae\",\n",
      "      \"content-length\": \"97\",\n",
      "      \"connection\": \"keep-alive\"\n",
      "    },\n",
      "    \"RetryAttempts\": 0\n",
      "  }\n",
      "}\n"
     ]
    }
   ],
   "source": [
    "rerank_create_solution_response = personalize.create_solution(\n",
    "    name = \"personalize-poc-rerank\"+str(uuid.uuid4())[:5],\n",
    "    datasetGroupArn = dataset_group_arn,\n",
    "    recipeArn = rerank_recipe_arn\n",
    ")\n",
    "\n",
    "rerank_solution_arn = rerank_create_solution_response['solutionArn']\n",
    "print(json.dumps(rerank_create_solution_response, indent=2))"
   ]
  },
  {
   "cell_type": "markdown",
   "metadata": {},
   "source": [
    "#### Create the Solution Version\n",
    "\n",
    "This process will actually take a while to complete, upwards of 25 minutes on."
   ]
  },
  {
   "cell_type": "code",
   "execution_count": 15,
   "metadata": {},
   "outputs": [],
   "source": [
    "rerank_create_solution_version_response = personalize.create_solution_version(\n",
    "    solutionArn = rerank_solution_arn\n",
    ")"
   ]
  },
  {
   "cell_type": "code",
   "execution_count": 16,
   "metadata": {},
   "outputs": [
    {
     "name": "stdout",
     "output_type": "stream",
     "text": [
      "{\n",
      "  \"solutionVersionArn\": \"arn:aws:personalize:us-east-1:822894322603:solution/personalize-poc-rerank871dc/084fef94\",\n",
      "  \"ResponseMetadata\": {\n",
      "    \"RequestId\": \"2f18a2b1-79c1-4d8f-820a-ab70c2a08637\",\n",
      "    \"HTTPStatusCode\": 200,\n",
      "    \"HTTPHeaders\": {\n",
      "      \"content-type\": \"application/x-amz-json-1.1\",\n",
      "      \"date\": \"Wed, 11 Mar 2020 06:40:48 GMT\",\n",
      "      \"x-amzn-requestid\": \"2f18a2b1-79c1-4d8f-820a-ab70c2a08637\",\n",
      "      \"content-length\": \"113\",\n",
      "      \"connection\": \"keep-alive\"\n",
      "    },\n",
      "    \"RetryAttempts\": 0\n",
      "  }\n",
      "}\n"
     ]
    }
   ],
   "source": [
    "rerank_solution_version_arn = rerank_create_solution_version_response['solutionVersionArn']\n",
    "print(json.dumps(rerank_create_solution_version_response, indent=2))"
   ]
  },
  {
   "cell_type": "markdown",
   "metadata": {},
   "source": [
    "### Viewing Solution Creation Status\n",
    "\n",
    "As promised, how to view the status updates in the console:\n",
    "\n",
    "* Go to [Personalize Console](https://console.aws.amazon.com/personalize/home?region=us-east-1#datasetGroups)\n",
    "* Click `View dataset groups`.\n",
    "* Click the name of your dataset group, most likely something with POC in the title.\n",
    "* Click `Solutions and recipes.`\n",
    "* You will now see a list of all of the solutions you created above. Click any one of them. \n",
    "* Note in `Solution versions` the job that is in progress. Once it is `Active`, your solution is ready to be reviewed. It is also capable of being deployed.\n",
    "\n"
   ]
  },
  {
   "cell_type": "code",
   "execution_count": 22,
   "metadata": {},
   "outputs": [
    {
     "name": "stdout",
     "output_type": "stream",
     "text": [
      "HRNN ACTIVE\n",
      "SIMS ACTIVE\n",
      "rerank ACTIVE\n",
      "All threads finished\n"
     ]
    }
   ],
   "source": [
    "import threading\n",
    "\n",
    "def threading_target(name, solution_version_arn):\n",
    "    while True: \n",
    "        solutions_version_status = personalize.describe_solution_version(\n",
    "            solutionVersionArn=solution_version_arn\n",
    "        )[\"solutionVersion\"][\"status\"]\n",
    "        print(name, solutions_version_status)\n",
    "        if solutions_version_status != 'ACTIVE' and solutions_version_status != 'CREATE_FAILED':\n",
    "            time.sleep(30)\n",
    "        else:\n",
    "            break\n",
    "        \n",
    "solution_version_arns = {\n",
    "    \"rerank\": rerank_solution_version_arn,\n",
    "    \"SIMS\": sims_solution_version_arn,\n",
    "    \"HRNN\": hrnn_solution_version_arn\n",
    "}        \n",
    "threads = list()\n",
    "        \n",
    "for key, solution_version_arn in solution_version_arns.items():\n",
    "    thread = threading.Thread(target=threading_target, args=(key, solution_version_arn))\n",
    "    threads.append(thread)\n",
    "    thread.start()\n",
    "    \n",
    "for thread in threads: \n",
    "    thread.join()\n",
    "    \n",
    "print(\"All threads finished\")    "
   ]
  },
  {
   "cell_type": "markdown",
   "metadata": {},
   "source": [
    "## Evaluating Solutions\n",
    "\n",
    "After about an hour max, the solutions should be ready for review. While they are in progress, it is a good idea to cover the various algorithms and their behavior in depth. You'll have another lull period as the solutions are being deployed into campaigns as well, so you can split the material into 2 sections if that makes it more accessible. Also, it can be an excellent time to discuss alternatives to how the data was fed into the system and what kind of results to expect from it.\n",
    "\n",
    "The first step is to obtain the solutions' metrics, API calls for each below."
   ]
  },
  {
   "cell_type": "markdown",
   "metadata": {},
   "source": [
    "### HRNN Metrics:"
   ]
  },
  {
   "cell_type": "code",
   "execution_count": 23,
   "metadata": {},
   "outputs": [
    {
     "name": "stdout",
     "output_type": "stream",
     "text": [
      "{\n",
      "  \"solutionVersionArn\": \"arn:aws:personalize:us-east-1:822894322603:solution/personalize-poc-hrnn011f5/4c7d5188\",\n",
      "  \"metrics\": {\n",
      "    \"coverage\": 0.037,\n",
      "    \"mean_reciprocal_rank_at_25\": 0.0284,\n",
      "    \"normalized_discounted_cumulative_gain_at_10\": 0.0416,\n",
      "    \"normalized_discounted_cumulative_gain_at_25\": 0.06,\n",
      "    \"normalized_discounted_cumulative_gain_at_5\": 0.0346,\n",
      "    \"precision_at_10\": 0.0077,\n",
      "    \"precision_at_25\": 0.0062,\n",
      "    \"precision_at_5\": 0.011\n",
      "  },\n",
      "  \"ResponseMetadata\": {\n",
      "    \"RequestId\": \"dc502d23-6d59-47b4-b3de-3942f02f8be9\",\n",
      "    \"HTTPStatusCode\": 200,\n",
      "    \"HTTPHeaders\": {\n",
      "      \"content-type\": \"application/x-amz-json-1.1\",\n",
      "      \"date\": \"Wed, 11 Mar 2020 09:35:45 GMT\",\n",
      "      \"x-amzn-requestid\": \"dc502d23-6d59-47b4-b3de-3942f02f8be9\",\n",
      "      \"content-length\": \"405\",\n",
      "      \"connection\": \"keep-alive\"\n",
      "    },\n",
      "    \"RetryAttempts\": 0\n",
      "  }\n",
      "}\n"
     ]
    }
   ],
   "source": [
    "hrnn_solution_metrics_response = personalize.get_solution_metrics(\n",
    "    solutionVersionArn = hrnn_solution_version_arn\n",
    ")\n",
    "\n",
    "print(json.dumps(hrnn_solution_metrics_response, indent=2))"
   ]
  },
  {
   "cell_type": "markdown",
   "metadata": {},
   "source": [
    "### Metrics\n",
    "\n",
    "Let's look at precision_at_K metrics, which depicts the number of relevant recommendations out of the top K recommendations divided by K. It gives about 1.1% for top 5 items.\n",
    "\n",
    "Other metrics are available in the [documentation](https://docs.aws.amazon.com/personalize/latest/dg/working-with-training-metrics.html)\n",
    "\n",
    "### Bias\n",
    "\n",
    "Something else to note, the users' history is influenced by ANY recommendation model that is in place as your historical data is being collected: \n",
    "- This often means that while your model probably won't be this bad with a customer or on your own data, it does bias the metrics to favor their existing solution. \n",
    "- If you work to push the offline metrics to match or exceed their current solution, you may just be making HRNN start to behave like whatever they were already using.\n",
    "\n",
    "### A/B\n",
    "\n",
    "This is a great time to have a conversation about AB testing and to think about the actual business outcomes they are looking to drive:\n",
    "- From there, you seem to run small experiments with Personalize against their existing recommendation system and see over time how the AB test performs. \n",
    "- If Personalize is winning, then it is the time to filter more and more traffic to Personalize and campaigns within it. \n",
    "- Over time the bias from the existing model will fade."
   ]
  },
  {
   "cell_type": "markdown",
   "metadata": {},
   "source": [
    "### SIMS Metrics:"
   ]
  },
  {
   "cell_type": "code",
   "execution_count": 24,
   "metadata": {},
   "outputs": [
    {
     "name": "stdout",
     "output_type": "stream",
     "text": [
      "{\n",
      "  \"solutionVersionArn\": \"arn:aws:personalize:us-east-1:822894322603:solution/personalize-poc-sims9dc02/54de3bda\",\n",
      "  \"metrics\": {\n",
      "    \"coverage\": 0.0889,\n",
      "    \"mean_reciprocal_rank_at_25\": 0.0408,\n",
      "    \"normalized_discounted_cumulative_gain_at_10\": 0.0425,\n",
      "    \"normalized_discounted_cumulative_gain_at_25\": 0.0506,\n",
      "    \"normalized_discounted_cumulative_gain_at_5\": 0.0297,\n",
      "    \"precision_at_10\": 0.0141,\n",
      "    \"precision_at_25\": 0.0092,\n",
      "    \"precision_at_5\": 0.0129\n",
      "  },\n",
      "  \"ResponseMetadata\": {\n",
      "    \"RequestId\": \"22473750-4af4-47d3-880f-5897b46611f9\",\n",
      "    \"HTTPStatusCode\": 200,\n",
      "    \"HTTPHeaders\": {\n",
      "      \"content-type\": \"application/x-amz-json-1.1\",\n",
      "      \"date\": \"Wed, 11 Mar 2020 09:35:50 GMT\",\n",
      "      \"x-amzn-requestid\": \"22473750-4af4-47d3-880f-5897b46611f9\",\n",
      "      \"content-length\": \"409\",\n",
      "      \"connection\": \"keep-alive\"\n",
      "    },\n",
      "    \"RetryAttempts\": 0\n",
      "  }\n",
      "}\n"
     ]
    }
   ],
   "source": [
    "sims_solution_metrics_response = personalize.get_solution_metrics(\n",
    "    solutionVersionArn = sims_solution_version_arn\n",
    ")\n",
    "\n",
    "print(json.dumps(sims_solution_metrics_response, indent=2))"
   ]
  },
  {
   "cell_type": "markdown",
   "metadata": {},
   "source": [
    "In this example, we are seeing a slightly down-scaled precision at 5, a little over 0.7% this time:\n",
    "- Effectively this is probably within the margin of error but given that no effort was made to mask popularity.\n",
    "- It may just be returning super popular results that a large volume of users have interacted with in some way. "
   ]
  },
  {
   "cell_type": "markdown",
   "metadata": {},
   "source": [
    "### Personalized Ranking Metrics:"
   ]
  },
  {
   "cell_type": "code",
   "execution_count": 25,
   "metadata": {},
   "outputs": [
    {
     "name": "stdout",
     "output_type": "stream",
     "text": [
      "{\n",
      "  \"solutionVersionArn\": \"arn:aws:personalize:us-east-1:822894322603:solution/personalize-poc-rerank871dc/084fef94\",\n",
      "  \"metrics\": {\n",
      "    \"coverage\": 0.0021,\n",
      "    \"mean_reciprocal_rank_at_25\": 0.0398,\n",
      "    \"normalized_discounted_cumulative_gain_at_10\": 0.0536,\n",
      "    \"normalized_discounted_cumulative_gain_at_25\": 0.0627,\n",
      "    \"normalized_discounted_cumulative_gain_at_5\": 0.04,\n",
      "    \"precision_at_10\": 0.0091,\n",
      "    \"precision_at_25\": 0.0057,\n",
      "    \"precision_at_5\": 0.0103\n",
      "  },\n",
      "  \"ResponseMetadata\": {\n",
      "    \"RequestId\": \"e246447b-a0d8-4a44-acf3-8f67bd50af20\",\n",
      "    \"HTTPStatusCode\": 200,\n",
      "    \"HTTPHeaders\": {\n",
      "      \"content-type\": \"application/x-amz-json-1.1\",\n",
      "      \"date\": \"Wed, 11 Mar 2020 09:35:53 GMT\",\n",
      "      \"x-amzn-requestid\": \"e246447b-a0d8-4a44-acf3-8f67bd50af20\",\n",
      "      \"content-length\": \"409\",\n",
      "      \"connection\": \"keep-alive\"\n",
      "    },\n",
      "    \"RetryAttempts\": 0\n",
      "  }\n",
      "}\n"
     ]
    }
   ],
   "source": [
    "rerank_solution_metrics_response = personalize.get_solution_metrics(\n",
    "    solutionVersionArn = rerank_solution_version_arn\n",
    ")\n",
    "\n",
    "print(json.dumps(rerank_solution_metrics_response, indent=2))"
   ]
  },
  {
   "cell_type": "markdown",
   "metadata": {},
   "source": [
    "Because it is based on HRNN, the outcome has to be similar.\n",
    "\n",
    "### Storing Useful Variables\n",
    "\n",
    "Before exiting this notebook, run the following cells to save off our version arns for use later."
   ]
  },
  {
   "cell_type": "code",
   "execution_count": 26,
   "metadata": {},
   "outputs": [
    {
     "name": "stdout",
     "output_type": "stream",
     "text": [
      "Stored 'hrnn_solution_version_arn' (str)\n",
      "Stored 'sims_solution_version_arn' (str)\n",
      "Stored 'rerank_solution_version_arn' (str)\n"
     ]
    }
   ],
   "source": [
    "%store hrnn_solution_version_arn\n",
    "%store sims_solution_version_arn\n",
    "%store rerank_solution_version_arn"
   ]
  },
  {
   "cell_type": "markdown",
   "metadata": {},
   "source": [
    "Just a quick comment on this one, here we see again a precision of near 1%, as this is based on HRNN, that is to be expected. \n",
    "\n",
    "You are now ready to move on to deploying and interacting with campaigns, continue by opening `Deploying_Campaigns_and_Interacting.ipynb`."
   ]
  },
  {
   "cell_type": "code",
   "execution_count": null,
   "metadata": {},
   "outputs": [],
   "source": []
  }
 ],
 "metadata": {
  "kernelspec": {
   "display_name": "conda_python3",
   "language": "python",
   "name": "conda_python3"
  },
  "language_info": {
   "codemirror_mode": {
    "name": "ipython",
    "version": 3
   },
   "file_extension": ".py",
   "mimetype": "text/x-python",
   "name": "python",
   "nbconvert_exporter": "python",
   "pygments_lexer": "ipython3",
   "version": "3.6.5"
  }
 },
 "nbformat": 4,
 "nbformat_minor": 4
}
